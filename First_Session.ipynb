{
 "cells": [
  {
   "cell_type": "markdown",
   "id": "f5b314d9",
   "metadata": {
    "id": "f5b314d9"
   },
   "source": [
    "# Import Packages"
   ]
  },
  {
   "cell_type": "code",
   "execution_count": null,
   "id": "1de74182",
   "metadata": {
    "id": "1de74182"
   },
   "outputs": [],
   "source": [
    "### Installation plotly and seaborn ####\n",
    "# !pip install seaborn\n",
    "# !pip install plotly\n"
   ]
  },
  {
   "cell_type": "code",
   "execution_count": null,
   "id": "426b0111",
   "metadata": {
    "id": "426b0111"
   },
   "outputs": [],
   "source": [
    "import numpy as np # linear algebra\n",
    "import pandas as pd # data processing, CSV file I/O (e.g. pd.read_csv)\n",
    "import warnings\n",
    "import seaborn as sns\n",
    "import matplotlib.pyplot as plt\n",
    "import plotly.express as px\n",
    "import plotly.graph_objects as go\n",
    "from plotly.subplots import make_subplots"
   ]
  },
  {
   "cell_type": "markdown",
   "id": "05e3ebe6",
   "metadata": {
    "id": "05e3ebe6"
   },
   "source": [
    "# Load Data"
   ]
  },
  {
   "cell_type": "code",
   "execution_count": null,
   "id": "02eb3fd5",
   "metadata": {
    "id": "02eb3fd5"
   },
   "outputs": [],
   "source": [
    "# raed data"
   ]
  },
  {
   "cell_type": "code",
   "execution_count": null,
   "id": "3fcfece9",
   "metadata": {
    "id": "3fcfece9"
   },
   "outputs": [],
   "source": [
    "# explore shape of Data\n",
    "# print shape of application data\n",
    "\n",
    "# print shape of credit data\n",
    "\n",
    "# print unique ID in application record\n",
    "\n",
    "# print unique ID in credit record\n",
    "\n",
    "# print unique ID in two tables share (intersection)\n",
    "\n",
    "# print Number of New customer\n"
   ]
  },
  {
   "cell_type": "markdown",
   "id": "44bf605e",
   "metadata": {
    "id": "44bf605e"
   },
   "source": [
    "#### **What you observe??**\n",
    "#### **Which data set firstly you interested in??**"
   ]
  },
  {
   "cell_type": "code",
   "execution_count": null,
   "id": "426641ad",
   "metadata": {
    "id": "426641ad"
   },
   "outputs": [],
   "source": [
    "# get an overview of the data types within a data frame\n"
   ]
  },
  {
   "cell_type": "markdown",
   "id": "d94a64d4",
   "metadata": {
    "id": "d94a64d4"
   },
   "source": [
    "# Labeling Data"
   ]
  },
  {
   "cell_type": "code",
   "execution_count": null,
   "id": "5af77afd",
   "metadata": {
    "id": "5af77afd"
   },
   "outputs": [],
   "source": [
    "#create Map the status to bad or good\n"
   ]
  },
  {
   "cell_type": "code",
   "execution_count": null,
   "id": "aef0ed9f",
   "metadata": {
    "id": "aef0ed9f"
   },
   "outputs": [],
   "source": [
    "# check mapping\n"
   ]
  },
  {
   "cell_type": "code",
   "execution_count": null,
   "id": "afbb04b2",
   "metadata": {
    "id": "afbb04b2"
   },
   "outputs": [],
   "source": [
    "# create data frame to aggregate each ID into one label\n"
   ]
  },
  {
   "cell_type": "code",
   "execution_count": null,
   "id": "62485b2b",
   "metadata": {
    "id": "62485b2b"
   },
   "outputs": [],
   "source": [
    "#decide the user is good or bad based on his/her history majority\n"
   ]
  },
  {
   "cell_type": "markdown",
   "id": "8320008d",
   "metadata": {
    "id": "8320008d"
   },
   "source": [
    "# Data Merging"
   ]
  },
  {
   "cell_type": "code",
   "execution_count": null,
   "id": "08e52c16",
   "metadata": {
    "id": "08e52c16"
   },
   "outputs": [],
   "source": [
    "#sorting IDs\n"
   ]
  },
  {
   "cell_type": "code",
   "execution_count": null,
   "id": "60d31b37",
   "metadata": {
    "id": "60d31b37"
   },
   "outputs": [],
   "source": [
    "# merge data\n"
   ]
  },
  {
   "cell_type": "code",
   "execution_count": null,
   "id": "cbe134d0",
   "metadata": {
    "id": "cbe134d0"
   },
   "outputs": [],
   "source": [
    "#define the rate of good debts for each user\n",
    "\n",
    "# drop 'Good','Bad' columns\n",
    "\n",
    "# check mapping\n"
   ]
  },
  {
   "cell_type": "code",
   "execution_count": null,
   "id": "8a6043ea",
   "metadata": {
    "id": "8a6043ea"
   },
   "outputs": [],
   "source": [
    "#Renaming columns to more friendly names\n"
   ]
  },
  {
   "cell_type": "markdown",
   "id": "5de23c82",
   "metadata": {
    "id": "5de23c82"
   },
   "source": [
    "# EDA\n",
    "\n",
    "#### **How many good and bad history users ?**"
   ]
  },
  {
   "cell_type": "code",
   "execution_count": null,
   "id": "d0ddb2d4",
   "metadata": {
    "id": "d0ddb2d4"
   },
   "outputs": [],
   "source": []
  },
  {
   "cell_type": "code",
   "execution_count": null,
   "id": "576a0809",
   "metadata": {
    "id": "576a0809"
   },
   "outputs": [],
   "source": [
    "#Create a bar plot using Matplotlib\n",
    "\n",
    "\n",
    "# Set labels\n",
    "\n",
    "# Set the x-axis ticks to only show at 0 and 1\n",
    "\n",
    "# set title\n",
    "\n",
    "\n",
    "#Show the plot\n"
   ]
  },
  {
   "cell_type": "code",
   "execution_count": null,
   "id": "14a53422",
   "metadata": {
    "id": "14a53422"
   },
   "outputs": [],
   "source": [
    "# create pie plot using plotly\n"
   ]
  },
  {
   "cell_type": "markdown",
   "id": "6762c398",
   "metadata": {
    "id": "6762c398"
   },
   "source": [
    "#### **What is distribution of rate?**"
   ]
  },
  {
   "cell_type": "code",
   "execution_count": null,
   "id": "4faa666a",
   "metadata": {
    "id": "4faa666a"
   },
   "outputs": [],
   "source": [
    "# create histogram using plotly\n",
    "# create the histogram of rate\n",
    "\n",
    "# show the figure\n"
   ]
  },
  {
   "cell_type": "code",
   "execution_count": null,
   "id": "9b794f56",
   "metadata": {
    "id": "9b794f56"
   },
   "outputs": [],
   "source": [
    "# create histogram using seaborn\n"
   ]
  },
  {
   "cell_type": "code",
   "execution_count": null,
   "id": "24396acc",
   "metadata": {
    "id": "24396acc"
   },
   "outputs": [],
   "source": [
    "# create histogram\n",
    "\n",
    "# set labels and title\n",
    "\n",
    "\n",
    "# Display the plot\n",
    "\n"
   ]
  },
  {
   "cell_type": "markdown",
   "id": "f9d440b9",
   "metadata": {
    "id": "f9d440b9"
   },
   "source": [
    "### What are distribution of all numerical columns"
   ]
  },
  {
   "cell_type": "code",
   "execution_count": null,
   "id": "a7ccccbd",
   "metadata": {
    "id": "a7ccccbd"
   },
   "outputs": [],
   "source": [
    "# create function to plot any distrbution\n",
    "def dist(col):\n",
    "    # create the histogram of rate\n",
    "\n",
    "    # show the figure\n",
    "    pass"
   ]
  },
  {
   "cell_type": "code",
   "execution_count": null,
   "id": "3685cfe0",
   "metadata": {
    "id": "3685cfe0"
   },
   "outputs": [],
   "source": []
  },
  {
   "cell_type": "code",
   "execution_count": null,
   "id": "ef0cf2b5",
   "metadata": {
    "id": "ef0cf2b5"
   },
   "outputs": [],
   "source": []
  },
  {
   "cell_type": "markdown",
   "id": "edb83bb5",
   "metadata": {
    "id": "edb83bb5"
   },
   "source": [
    "## **How Features effect on the decision and comparison with the rate**\n",
    "\n",
    "#### **What gender are good users?**"
   ]
  },
  {
   "cell_type": "code",
   "execution_count": null,
   "id": "7548cd06",
   "metadata": {
    "id": "7548cd06"
   },
   "outputs": [],
   "source": [
    "\n",
    "# Show the plot\n"
   ]
  },
  {
   "cell_type": "code",
   "execution_count": null,
   "id": "bcaf9245",
   "metadata": {
    "id": "bcaf9245"
   },
   "outputs": [],
   "source": [
    "#Create a bar plot using Matplotlib\n",
    "\n",
    "\n",
    "# Set labels\n",
    "\n",
    "\n",
    "# Set the x-axis ticks to only show at 0 and 1\n",
    "\n",
    "# set title\n",
    "\n",
    "\n",
    "#Show the plot\n"
   ]
  },
  {
   "cell_type": "markdown",
   "id": "494d0700",
   "metadata": {
    "id": "494d0700"
   },
   "source": [
    "#### **What Income type of the worst users?**"
   ]
  },
  {
   "cell_type": "code",
   "execution_count": null,
   "id": "a0d0fc8c",
   "metadata": {
    "id": "a0d0fc8c"
   },
   "outputs": [],
   "source": [
    "\n",
    "# Show the plot\n",
    "\n"
   ]
  },
  {
   "cell_type": "code",
   "execution_count": null,
   "id": "62fadb6e",
   "metadata": {
    "id": "62fadb6e"
   },
   "outputs": [],
   "source": [
    "\n"
   ]
  },
  {
   "cell_type": "markdown",
   "id": "e934f92d",
   "metadata": {
    "id": "e934f92d"
   },
   "source": [
    "####  **How Features `['Car', 'Realty', 'Education_Type', 'Family_Status', 'Housing_Type', 'Job_Title' ] ` effect on the decision and comparison with the rate**"
   ]
  },
  {
   "cell_type": "code",
   "execution_count": null,
   "id": "a212b0cb",
   "metadata": {
    "id": "a212b0cb"
   },
   "outputs": [],
   "source": [
    "# create function to compare any categorical column with rate\n",
    "def cat_rate(col):\n",
    "\n",
    "    # Show the plot\n",
    "    pass"
   ]
  },
  {
   "cell_type": "code",
   "execution_count": null,
   "id": "202b576d",
   "metadata": {
    "id": "202b576d"
   },
   "outputs": [],
   "source": []
  },
  {
   "cell_type": "markdown",
   "id": "c65e9941",
   "metadata": {
    "id": "c65e9941"
   },
   "source": [
    "##  **What is Distribution of Age for Two status**"
   ]
  },
  {
   "cell_type": "code",
   "execution_count": null,
   "id": "ece8d7ad",
   "metadata": {
    "id": "ece8d7ad"
   },
   "outputs": [],
   "source": [
    "import plotly.figure_factory as ff\n",
    "# Create a list to store KDE data for different statuses\n",
    "\n",
    "#kde_data\n"
   ]
  },
  {
   "cell_type": "markdown",
   "id": "c0c166bc",
   "metadata": {
    "id": "c0c166bc"
   },
   "source": [
    "#### **What is Distribution of ` [ 'Income', 'Years_Experience','rate' ] ` for Two status**"
   ]
  },
  {
   "cell_type": "code",
   "execution_count": null,
   "id": "71b7881e",
   "metadata": {
    "id": "71b7881e"
   },
   "outputs": [],
   "source": []
  },
  {
   "cell_type": "code",
   "execution_count": null,
   "id": "cf695231",
   "metadata": {
    "id": "cf695231"
   },
   "outputs": [],
   "source": [
    "# create function to compare distrbutiont of numerical column with status\n",
    "def dist_stat(col):\n",
    "    # Create a list to store KDE data for different statuses\n",
    "\n",
    "    #kde_data\n",
    "    pass"
   ]
  },
  {
   "cell_type": "code",
   "execution_count": null,
   "id": "f07017f4",
   "metadata": {
    "id": "f07017f4"
   },
   "outputs": [],
   "source": [
    "dist_stat('rate')"
   ]
  },
  {
   "cell_type": "code",
   "execution_count": null,
   "id": "5ce20a6c",
   "metadata": {
    "id": "5ce20a6c"
   },
   "outputs": [],
   "source": [
    "#Corelation between features\n"
   ]
  },
  {
   "cell_type": "code",
   "execution_count": null,
   "id": "5c81914c",
   "metadata": {
    "id": "5c81914c"
   },
   "outputs": [],
   "source": []
  },
  {
   "cell_type": "markdown",
   "id": "1c926d32",
   "metadata": {
    "id": "1c926d32"
   },
   "source": [
    "#### We can observe :\n",
    "- We will remove children (beacase high correlation with total_family)\n",
    "- Mobile_phone (has NAN correlation with others)"
   ]
  },
  {
   "cell_type": "markdown",
   "id": "60d42566",
   "metadata": {
    "id": "60d42566"
   },
   "source": [
    "# Data Cleaning\n",
    "\n",
    "### **Handle low-cardinality features ( have low variance)**"
   ]
  },
  {
   "cell_type": "code",
   "execution_count": null,
   "id": "0b29f1e0",
   "metadata": {
    "id": "0b29f1e0"
   },
   "outputs": [],
   "source": []
  },
  {
   "cell_type": "markdown",
   "id": "2ae68e58",
   "metadata": {
    "id": "2ae68e58"
   },
   "source": [
    "### **Handle related features**"
   ]
  },
  {
   "cell_type": "code",
   "execution_count": null,
   "id": "f920aada",
   "metadata": {
    "id": "f920aada"
   },
   "outputs": [],
   "source": []
  },
  {
   "cell_type": "markdown",
   "id": "ca871909",
   "metadata": {
    "id": "ca871909"
   },
   "source": [
    "### Handle Missing values"
   ]
  },
  {
   "cell_type": "code",
   "execution_count": null,
   "id": "44c3d7fd",
   "metadata": {
    "id": "44c3d7fd"
   },
   "outputs": [],
   "source": [
    "# Check Missing value\n",
    "\n",
    "# null values more than 25% of data"
   ]
  },
  {
   "cell_type": "code",
   "execution_count": null,
   "id": "50aa3525",
   "metadata": {
    "id": "50aa3525"
   },
   "outputs": [],
   "source": [
    "# filling null data\n",
    "\n"
   ]
  },
  {
   "cell_type": "markdown",
   "id": "6b2444f3",
   "metadata": {
    "id": "6b2444f3"
   },
   "source": [
    "### **Handle date format**"
   ]
  },
  {
   "cell_type": "code",
   "execution_count": null,
   "id": "b062b364",
   "metadata": {
    "id": "b062b364"
   },
   "outputs": [],
   "source": []
  }
 ],
 "metadata": {
  "colab": {
   "provenance": []
  },
  "kernelspec": {
   "display_name": "Python 3 (ipykernel)",
   "language": "python",
   "name": "python3"
  },
  "language_info": {
   "codemirror_mode": {
    "name": "ipython",
    "version": 3
   },
   "file_extension": ".py",
   "mimetype": "text/x-python",
   "name": "python",
   "nbconvert_exporter": "python",
   "pygments_lexer": "ipython3",
   "version": "3.9.16"
  }
 },
 "nbformat": 4,
 "nbformat_minor": 5
}
